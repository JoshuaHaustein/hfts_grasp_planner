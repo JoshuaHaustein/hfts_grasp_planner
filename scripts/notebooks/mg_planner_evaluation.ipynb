{
 "metadata": {
  "language_info": {
   "codemirror_mode": {
    "name": "ipython",
    "version": 3
   },
   "file_extension": ".py",
   "mimetype": "text/x-python",
   "name": "python",
   "nbconvert_exporter": "python",
   "pygments_lexer": "ipython3",
   "version": "2.7.17-final"
  },
  "orig_nbformat": 2,
  "kernelspec": {
   "name": "python3",
   "display_name": "Python 3"
  }
 },
 "nbformat": 4,
 "nbformat_minor": 2,
 "cells": [
  {
   "source": [
    "# Data Evaluation for Multi-Grasp motion planner"
   ],
   "cell_type": "markdown",
   "metadata": {}
  },
  {
   "cell_type": "code",
   "execution_count": 3,
   "metadata": {},
   "outputs": [],
   "source": [
    "# Common imports\n",
    "import pandas as pd\n",
    "import numpy as np\n",
    "import os"
   ]
  },
  {
   "source": [
    "## Profiling\n",
    "This section contains code to load, average and visualize profiling results."
   ],
   "cell_type": "markdown",
   "metadata": {}
  },
  {
   "cell_type": "code",
   "execution_count": 110,
   "metadata": {},
   "outputs": [],
   "source": [
    "    def load_stats(filename):\n",
    "    \"\"\"Load profiling stats for an algorithm from the given file.\n",
    "    Args:\n",
    "        filename, string: name of the stats file.\n",
    "    Returns:\n",
    "        pd.DataFrame: Profiling stats with standard deviations\n",
    "    \"\"\"\n",
    "    run_stats = pd.read_csv(filename)\n",
    "    avg_run_stats = run_stats.groupby('function_name').mean()\n",
    "    time_columns = ['total_runtime', 'avg_runtime', 'total_cpu_time', 'avg_cpu_time']\n",
    "    time_columns_std = [name + \"_std\" for name in time_columns]\n",
    "    avg_run_stats[time_columns_std] = run_stats.groupby('function_name').std()[time_columns]\n",
    "    return avg_run_stats"
   ]
  },
  {
   "source": [
    "Show the profiling stats of a specific algorithm:"
   ],
   "cell_type": "markdown",
   "metadata": {}
  },
  {
   "cell_type": "code",
   "execution_count": 15,
   "metadata": {},
   "outputs": [
    {
     "output_type": "execute_result",
     "data": {
      "text/plain": "                                        num_calls  total_runtime  \\\nfunction_name                                                      \nIntegralEdgeCostComputer::lowerBound         8668       0.004136   \nMultiGraspRoadmapGraph::checkValidity        1698       0.149892   \nMultiGraspRoadmapGraph::getEdgeCost         16870       0.185707   \nMultiGraspRoadmapGraph::getGoalCost             1       0.000002   \nMultiGraspRoadmapGraph::getSuccessors         417       0.018291   \nMultiGraspRoadmapGraph::heuristic           10421       0.007566   \nMultiGraspRoadmapGraph::isGoal                418       0.000236   \nRoadmap::computeCostWithGrasp                 451       0.159262   \nRoadmap::densify                                1       0.037720   \nRoadmap::isValid                             1703       0.144342   \nRoadmap::isValidWithGrasp                    1701       0.002859   \nRoadmap::updateAdjacency                    17280       0.024767   \nRoadmap::updateAdjacency::addNeighbors        283       0.017270   \nStateSpace::costWithGrasp                  170674       0.077084   \nStateSpace::isValid                           505       0.000359   \nStateSpace::isValidWithGrasp                  610       0.000387   \nlwaStarSearch                                   1       0.380269   \n\n                                         avg_runtime  total_cpu_time  \\\nfunction_name                                                          \nIntegralEdgeCostComputer::lowerBound    4.771902e-07        0.004714   \nMultiGraspRoadmapGraph::checkValidity   8.827579e-05        0.149241   \nMultiGraspRoadmapGraph::getEdgeCost     1.100810e-05        0.186170   \nMultiGraspRoadmapGraph::getGoalCost     2.420900e-06        0.000003   \nMultiGraspRoadmapGraph::getSuccessors   4.386270e-05        0.018276   \nMultiGraspRoadmapGraph::heuristic       7.260091e-07        0.008333   \nMultiGraspRoadmapGraph::isGoal          5.651833e-07        0.000278   \nRoadmap::computeCostWithGrasp           3.531293e-04        0.158733   \nRoadmap::densify                        3.772026e-02        0.037429   \nRoadmap::isValid                        8.475739e-05        0.143787   \nRoadmap::isValidWithGrasp               1.680898e-06        0.002988   \nRoadmap::updateAdjacency                1.433297e-06        0.025847   \nRoadmap::updateAdjacency::addNeighbors  6.102563e-05        0.017257   \nStateSpace::costWithGrasp               4.516453e-07        0.089598   \nStateSpace::isValid                     7.118093e-07        0.000404   \nStateSpace::isValidWithGrasp            6.348679e-07        0.000430   \nlwaStarSearch                           3.802695e-01        0.378701   \n\n                                        avg_cpu_time  total_runtime_std  \\\nfunction_name                                                             \nIntegralEdgeCostComputer::lowerBound    5.438970e-07       2.085157e-04   \nMultiGraspRoadmapGraph::checkValidity   8.789240e-05       4.261395e-02   \nMultiGraspRoadmapGraph::getEdgeCost     1.103559e-05       3.547900e-03   \nMultiGraspRoadmapGraph::getGoalCost     2.700000e-06       3.116716e-07   \nMultiGraspRoadmapGraph::getSuccessors   4.382782e-05       4.415900e-04   \nMultiGraspRoadmapGraph::heuristic       7.995970e-07       1.521634e-04   \nMultiGraspRoadmapGraph::isGoal          6.657896e-07       5.506353e-06   \nRoadmap::computeCostWithGrasp           3.519580e-04       3.017736e-03   \nRoadmap::densify                        3.742950e-02       1.938049e-03   \nRoadmap::isValid                        8.443150e-05       4.257828e-02   \nRoadmap::isValidWithGrasp               1.756556e-06       7.419065e-05   \nRoadmap::updateAdjacency                1.495752e-06       5.354849e-04   \nRoadmap::updateAdjacency::addNeighbors  6.098022e-05       4.423312e-04   \nStateSpace::costWithGrasp               5.249681e-07       2.045997e-03   \nStateSpace::isValid                     8.005940e-07       1.644264e-05   \nStateSpace::isValidWithGrasp            7.042624e-07       1.512300e-05   \nlwaStarSearch                           3.787008e-01       4.252978e-02   \n\n                                        avg_runtime_std  total_cpu_time_std  \\\nfunction_name                                                                 \nIntegralEdgeCostComputer::lowerBound       2.405572e-08        1.841981e-04   \nMultiGraspRoadmapGraph::checkValidity      2.509644e-05        4.256103e-02   \nMultiGraspRoadmapGraph::getEdgeCost        2.103310e-07        3.722260e-03   \nMultiGraspRoadmapGraph::getGoalCost        3.116716e-07        4.830459e-07   \nMultiGraspRoadmapGraph::getSuccessors      1.058986e-06        4.227946e-04   \nMultiGraspRoadmapGraph::heuristic          1.460176e-08        1.777465e-04   \nMultiGraspRoadmapGraph::isGoal             1.317290e-08        1.016585e-05   \nRoadmap::computeCostWithGrasp              6.691171e-06        3.113742e-03   \nRoadmap::densify                           1.938049e-03        1.729018e-03   \nRoadmap::isValid                           2.500177e-05        4.251815e-02   \nRoadmap::isValidWithGrasp                  4.361469e-08        9.061328e-05   \nRoadmap::updateAdjacency                   3.098918e-08        5.448003e-04   \nRoadmap::updateAdjacency::addNeighbors     1.563010e-06        4.272114e-04   \nStateSpace::costWithGrasp                  1.198772e-08        1.727422e-03   \nStateSpace::isValid                        3.255961e-08        1.589584e-05   \nStateSpace::isValidWithGrasp               2.479180e-08        2.420835e-05   \nlwaStarSearch                              4.252978e-02        4.250822e-02   \n\n                                        avg_cpu_time_std  \nfunction_name                                             \nIntegralEdgeCostComputer::lowerBound        2.125046e-08  \nMultiGraspRoadmapGraph::checkValidity       2.506538e-05  \nMultiGraspRoadmapGraph::getEdgeCost         2.206314e-07  \nMultiGraspRoadmapGraph::getGoalCost         4.830459e-07  \nMultiGraspRoadmapGraph::getSuccessors       1.013901e-06  \nMultiGraspRoadmapGraph::heuristic           1.705646e-08  \nMultiGraspRoadmapGraph::isGoal              2.432026e-08  \nRoadmap::computeCostWithGrasp               6.904119e-06  \nRoadmap::densify                            1.729018e-03  \nRoadmap::isValid                            2.496664e-05  \nRoadmap::isValidWithGrasp                   5.327059e-08  \nRoadmap::updateAdjacency                    3.152845e-08  \nRoadmap::updateAdjacency::addNeighbors      1.509580e-06  \nStateSpace::costWithGrasp                   1.012133e-08  \nStateSpace::isValid                         3.147695e-08  \nStateSpace::isValidWithGrasp                3.968590e-08  \nlwaStarSearch                               4.250822e-02  ",
      "text/html": "<div>\n<style scoped>\n    .dataframe tbody tr th:only-of-type {\n        vertical-align: middle;\n    }\n\n    .dataframe tbody tr th {\n        vertical-align: top;\n    }\n\n    .dataframe thead th {\n        text-align: right;\n    }\n</style>\n<table border=\"1\" class=\"dataframe\">\n  <thead>\n    <tr style=\"text-align: right;\">\n      <th></th>\n      <th>num_calls</th>\n      <th>total_runtime</th>\n      <th>avg_runtime</th>\n      <th>total_cpu_time</th>\n      <th>avg_cpu_time</th>\n      <th>total_runtime_std</th>\n      <th>avg_runtime_std</th>\n      <th>total_cpu_time_std</th>\n      <th>avg_cpu_time_std</th>\n    </tr>\n    <tr>\n      <th>function_name</th>\n      <th></th>\n      <th></th>\n      <th></th>\n      <th></th>\n      <th></th>\n      <th></th>\n      <th></th>\n      <th></th>\n      <th></th>\n    </tr>\n  </thead>\n  <tbody>\n    <tr>\n      <th>IntegralEdgeCostComputer::lowerBound</th>\n      <td>8668</td>\n      <td>0.004136</td>\n      <td>4.771902e-07</td>\n      <td>0.004714</td>\n      <td>5.438970e-07</td>\n      <td>2.085157e-04</td>\n      <td>2.405572e-08</td>\n      <td>1.841981e-04</td>\n      <td>2.125046e-08</td>\n    </tr>\n    <tr>\n      <th>MultiGraspRoadmapGraph::checkValidity</th>\n      <td>1698</td>\n      <td>0.149892</td>\n      <td>8.827579e-05</td>\n      <td>0.149241</td>\n      <td>8.789240e-05</td>\n      <td>4.261395e-02</td>\n      <td>2.509644e-05</td>\n      <td>4.256103e-02</td>\n      <td>2.506538e-05</td>\n    </tr>\n    <tr>\n      <th>MultiGraspRoadmapGraph::getEdgeCost</th>\n      <td>16870</td>\n      <td>0.185707</td>\n      <td>1.100810e-05</td>\n      <td>0.186170</td>\n      <td>1.103559e-05</td>\n      <td>3.547900e-03</td>\n      <td>2.103310e-07</td>\n      <td>3.722260e-03</td>\n      <td>2.206314e-07</td>\n    </tr>\n    <tr>\n      <th>MultiGraspRoadmapGraph::getGoalCost</th>\n      <td>1</td>\n      <td>0.000002</td>\n      <td>2.420900e-06</td>\n      <td>0.000003</td>\n      <td>2.700000e-06</td>\n      <td>3.116716e-07</td>\n      <td>3.116716e-07</td>\n      <td>4.830459e-07</td>\n      <td>4.830459e-07</td>\n    </tr>\n    <tr>\n      <th>MultiGraspRoadmapGraph::getSuccessors</th>\n      <td>417</td>\n      <td>0.018291</td>\n      <td>4.386270e-05</td>\n      <td>0.018276</td>\n      <td>4.382782e-05</td>\n      <td>4.415900e-04</td>\n      <td>1.058986e-06</td>\n      <td>4.227946e-04</td>\n      <td>1.013901e-06</td>\n    </tr>\n    <tr>\n      <th>MultiGraspRoadmapGraph::heuristic</th>\n      <td>10421</td>\n      <td>0.007566</td>\n      <td>7.260091e-07</td>\n      <td>0.008333</td>\n      <td>7.995970e-07</td>\n      <td>1.521634e-04</td>\n      <td>1.460176e-08</td>\n      <td>1.777465e-04</td>\n      <td>1.705646e-08</td>\n    </tr>\n    <tr>\n      <th>MultiGraspRoadmapGraph::isGoal</th>\n      <td>418</td>\n      <td>0.000236</td>\n      <td>5.651833e-07</td>\n      <td>0.000278</td>\n      <td>6.657896e-07</td>\n      <td>5.506353e-06</td>\n      <td>1.317290e-08</td>\n      <td>1.016585e-05</td>\n      <td>2.432026e-08</td>\n    </tr>\n    <tr>\n      <th>Roadmap::computeCostWithGrasp</th>\n      <td>451</td>\n      <td>0.159262</td>\n      <td>3.531293e-04</td>\n      <td>0.158733</td>\n      <td>3.519580e-04</td>\n      <td>3.017736e-03</td>\n      <td>6.691171e-06</td>\n      <td>3.113742e-03</td>\n      <td>6.904119e-06</td>\n    </tr>\n    <tr>\n      <th>Roadmap::densify</th>\n      <td>1</td>\n      <td>0.037720</td>\n      <td>3.772026e-02</td>\n      <td>0.037429</td>\n      <td>3.742950e-02</td>\n      <td>1.938049e-03</td>\n      <td>1.938049e-03</td>\n      <td>1.729018e-03</td>\n      <td>1.729018e-03</td>\n    </tr>\n    <tr>\n      <th>Roadmap::isValid</th>\n      <td>1703</td>\n      <td>0.144342</td>\n      <td>8.475739e-05</td>\n      <td>0.143787</td>\n      <td>8.443150e-05</td>\n      <td>4.257828e-02</td>\n      <td>2.500177e-05</td>\n      <td>4.251815e-02</td>\n      <td>2.496664e-05</td>\n    </tr>\n    <tr>\n      <th>Roadmap::isValidWithGrasp</th>\n      <td>1701</td>\n      <td>0.002859</td>\n      <td>1.680898e-06</td>\n      <td>0.002988</td>\n      <td>1.756556e-06</td>\n      <td>7.419065e-05</td>\n      <td>4.361469e-08</td>\n      <td>9.061328e-05</td>\n      <td>5.327059e-08</td>\n    </tr>\n    <tr>\n      <th>Roadmap::updateAdjacency</th>\n      <td>17280</td>\n      <td>0.024767</td>\n      <td>1.433297e-06</td>\n      <td>0.025847</td>\n      <td>1.495752e-06</td>\n      <td>5.354849e-04</td>\n      <td>3.098918e-08</td>\n      <td>5.448003e-04</td>\n      <td>3.152845e-08</td>\n    </tr>\n    <tr>\n      <th>Roadmap::updateAdjacency::addNeighbors</th>\n      <td>283</td>\n      <td>0.017270</td>\n      <td>6.102563e-05</td>\n      <td>0.017257</td>\n      <td>6.098022e-05</td>\n      <td>4.423312e-04</td>\n      <td>1.563010e-06</td>\n      <td>4.272114e-04</td>\n      <td>1.509580e-06</td>\n    </tr>\n    <tr>\n      <th>StateSpace::costWithGrasp</th>\n      <td>170674</td>\n      <td>0.077084</td>\n      <td>4.516453e-07</td>\n      <td>0.089598</td>\n      <td>5.249681e-07</td>\n      <td>2.045997e-03</td>\n      <td>1.198772e-08</td>\n      <td>1.727422e-03</td>\n      <td>1.012133e-08</td>\n    </tr>\n    <tr>\n      <th>StateSpace::isValid</th>\n      <td>505</td>\n      <td>0.000359</td>\n      <td>7.118093e-07</td>\n      <td>0.000404</td>\n      <td>8.005940e-07</td>\n      <td>1.644264e-05</td>\n      <td>3.255961e-08</td>\n      <td>1.589584e-05</td>\n      <td>3.147695e-08</td>\n    </tr>\n    <tr>\n      <th>StateSpace::isValidWithGrasp</th>\n      <td>610</td>\n      <td>0.000387</td>\n      <td>6.348679e-07</td>\n      <td>0.000430</td>\n      <td>7.042624e-07</td>\n      <td>1.512300e-05</td>\n      <td>2.479180e-08</td>\n      <td>2.420835e-05</td>\n      <td>3.968590e-08</td>\n    </tr>\n    <tr>\n      <th>lwaStarSearch</th>\n      <td>1</td>\n      <td>0.380269</td>\n      <td>3.802695e-01</td>\n      <td>0.378701</td>\n      <td>3.787008e-01</td>\n      <td>4.252978e-02</td>\n      <td>4.252978e-02</td>\n      <td>4.250822e-02</td>\n      <td>4.250822e-02</td>\n    </tr>\n  </tbody>\n</table>\n</div>"
     },
     "metadata": {},
     "execution_count": 15
    }
   ],
   "source": [
    "load_stats('/tmp/test_results/LWAstar__MultiGraspGraph__Standard2DScene__2/run_stats')"
   ]
  },
  {
   "source": [
    "## Loading summarized results\n",
    "This section contains code to load summarized results, i.e. number of evaluated nodes, runtime, number of evaluated edges, ..."
   ],
   "cell_type": "markdown",
   "metadata": {}
  },
  {
   "cell_type": "code",
   "execution_count": 13,
   "metadata": {
    "tags": []
   },
   "outputs": [],
   "source": [
    "algo_to_function = {\n",
    "    \"LazySP_LWLPAstar\": 'lazySP',\n",
    "    \"LWAstar\": \"lwaStarSearch\"\n",
    "    # TODO add other algorithm to function mappings here\n",
    "}\n",
    "\n",
    "def count_event(log_line, storage):\n",
    "    \"\"\" Count a roadmap evalation log event.\n",
    "    Args:\n",
    "        log_line, str - a line from a log file.\n",
    "        storage, dict - dictionary to update counts in.\n",
    "            Needs to have keys 'base_validity', 'grasp_validity', 'base_cost', 'grasp_cost', 'base_expansions'. 'grasp_expansions'\n",
    "    \"\"\"\n",
    "    line_args = log_line.split(',')\n",
    "    storage['base_validity'] += line_args[0] == \"VAL_BASE\"\n",
    "    storage['grasp_validity'] += line_args[0] == \"VAL_GRASP\"\n",
    "    storage['base_cost'] += line_args[0] == \"EDGE_COST\"\n",
    "    storage['grasp_cost'] += line_args[0] == \"EDGE_COST_GRASP\"\n",
    "    storage['base_expansions'] += line_args[0] == \"BASE_EXPANSION\"\n",
    "    storage['grasp_expansions'] += line_args[0] == \"EXPANSION\"\n",
    "\n",
    "def load_test_case_result(result_folder, runtime_type='total_runtime'):\n",
    "    \"\"\"Load the result of a single test case and return it as a pandas.Series.\n",
    "    Args:\n",
    "        result_folder, string: The folder containing the results of the test case.\n",
    "            The folder should contain three files 'log_evaluation', 'log_roadmap', 'run_stats' produced\n",
    "            by testing the MGSearchMotionPlanner. The name of the result folder should follow the format\n",
    "            <algo_name>__<graph_name>__<scene_name>__<num_grasps>\n",
    "    \"\"\"\n",
    "    folder_name = os.path.basename(os.path.normpath(result_folder))\n",
    "    algo_name, graph_name, scene_name, num_grasps = folder_name.split('__')\n",
    "    num_grasps = int(num_grasps)\n",
    "    # load runtime statistics\n",
    "    avg_run_stats = load_stats(result_folder + '/run_stats')\n",
    "    # read number of roadmap nodes\n",
    "    with open(result_folder + '/log_roadmap', 'r') as roadmap_file:\n",
    "        num_nodes = len(roadmap_file.readlines())\n",
    "    # read number of validity checks, edge evaluations and expansions\n",
    "    roadmap_evaluations = {'base_validity': 0, 'grasp_validity': 0, 'base_cost': 0, 'grasp_cost': 0, 'base_expansions': 0, 'grasp_expansions': 0}\n",
    "    with open(result_folder + '/log_evaluation', 'r') as evalulation_file:\n",
    "        for line in evalulation_file:\n",
    "            count_event(line, roadmap_evaluations)\n",
    "    # Create Series for this test case\n",
    "    return pd.Series({'algorithm': algo_name, \n",
    "                      'graph': graph_name, \n",
    "                      'runtime': avg_run_stats.loc[algo_to_function[algo_name], runtime_type],\n",
    "                      'runtime_std': avg_run_stats.loc[algo_to_function[algo_name], runtime_type + '_std'], \n",
    "                      'base_validity_checks': roadmap_evaluations['base_validity'],\n",
    "                      'grasp_validity_checks': roadmap_evaluations['grasp_validity'],\n",
    "                      'base_edge_cost': roadmap_evaluations['base_cost'],\n",
    "                      'grasp_edge_cost': roadmap_evaluations['grasp_cost'],\n",
    "                      'base_expansions': roadmap_evaluations['base_expansions'],\n",
    "                      'grasp_expansions': roadmap_evaluations['grasp_expansions'],\n",
    "                      'roadmap_size': num_nodes,\n",
    "                      'scene': scene_name, \n",
    "                      'num_grasps': num_grasps})\n",
    "\n",
    "def load_results(results_base_folder):\n",
    "    \"\"\"Load all results in the given base folder and return in a single DataFrame.\n",
    "    Args:\n",
    "        results_base_folder, str: Path to the folder containing various result sub-folders.\n",
    "    Returns:\n",
    "        pd.DataFrame: Data frame containing all results.\n",
    "    \"\"\"\n",
    "    series = []\n",
    "    for fname in os.listdir(results_base_folder):\n",
    "        series.append(load_test_case_result(results_base_folder + '/' + fname))\n",
    "    return pd.DataFrame(series)"
   ]
  },
  {
   "cell_type": "code",
   "execution_count": 16,
   "metadata": {},
   "outputs": [
    {
     "output_type": "execute_result",
     "data": {
      "text/plain": "          algorithm                        graph   runtime  runtime_std  \\\n0           LWAstar              MultiGraspGraph  0.380269     0.042530   \n1           LWAstar              MultiGraspGraph  0.206689     0.003217   \n2  LazySP_LWLPAstar  LazyWeightedMultiGraspGraph  4.402683     0.071554   \n3  LazySP_LWLPAstar  LazyWeightedMultiGraspGraph  0.258329     0.008403   \n\n   base_validity_checks  grasp_validity_checks  base_edge_cost  \\\n0                   505                    610               0   \n1                   102                    103               0   \n2                   584                     80             555   \n3                   102                    102              12   \n\n   grasp_edge_cost  base_expansions  grasp_expansions  roadmap_size  \\\n0              451                1               416         10006   \n1               12                1                 3          1101   \n2               64                1             33781         10006   \n3                2                1                15          1101   \n\n             scene  num_grasps  \n0  Standard2DScene           2  \n1    YumiTestScene           6  \n2  Standard2DScene           2  \n3    YumiTestScene           6  ",
      "text/html": "<div>\n<style scoped>\n    .dataframe tbody tr th:only-of-type {\n        vertical-align: middle;\n    }\n\n    .dataframe tbody tr th {\n        vertical-align: top;\n    }\n\n    .dataframe thead th {\n        text-align: right;\n    }\n</style>\n<table border=\"1\" class=\"dataframe\">\n  <thead>\n    <tr style=\"text-align: right;\">\n      <th></th>\n      <th>algorithm</th>\n      <th>graph</th>\n      <th>runtime</th>\n      <th>runtime_std</th>\n      <th>base_validity_checks</th>\n      <th>grasp_validity_checks</th>\n      <th>base_edge_cost</th>\n      <th>grasp_edge_cost</th>\n      <th>base_expansions</th>\n      <th>grasp_expansions</th>\n      <th>roadmap_size</th>\n      <th>scene</th>\n      <th>num_grasps</th>\n    </tr>\n  </thead>\n  <tbody>\n    <tr>\n      <th>0</th>\n      <td>LWAstar</td>\n      <td>MultiGraspGraph</td>\n      <td>0.380269</td>\n      <td>0.042530</td>\n      <td>505</td>\n      <td>610</td>\n      <td>0</td>\n      <td>451</td>\n      <td>1</td>\n      <td>416</td>\n      <td>10006</td>\n      <td>Standard2DScene</td>\n      <td>2</td>\n    </tr>\n    <tr>\n      <th>1</th>\n      <td>LWAstar</td>\n      <td>MultiGraspGraph</td>\n      <td>0.206689</td>\n      <td>0.003217</td>\n      <td>102</td>\n      <td>103</td>\n      <td>0</td>\n      <td>12</td>\n      <td>1</td>\n      <td>3</td>\n      <td>1101</td>\n      <td>YumiTestScene</td>\n      <td>6</td>\n    </tr>\n    <tr>\n      <th>2</th>\n      <td>LazySP_LWLPAstar</td>\n      <td>LazyWeightedMultiGraspGraph</td>\n      <td>4.402683</td>\n      <td>0.071554</td>\n      <td>584</td>\n      <td>80</td>\n      <td>555</td>\n      <td>64</td>\n      <td>1</td>\n      <td>33781</td>\n      <td>10006</td>\n      <td>Standard2DScene</td>\n      <td>2</td>\n    </tr>\n    <tr>\n      <th>3</th>\n      <td>LazySP_LWLPAstar</td>\n      <td>LazyWeightedMultiGraspGraph</td>\n      <td>0.258329</td>\n      <td>0.008403</td>\n      <td>102</td>\n      <td>102</td>\n      <td>12</td>\n      <td>2</td>\n      <td>1</td>\n      <td>15</td>\n      <td>1101</td>\n      <td>YumiTestScene</td>\n      <td>6</td>\n    </tr>\n  </tbody>\n</table>\n</div>"
     },
     "metadata": {},
     "execution_count": 16
    }
   ],
   "source": [
    "# read all results in a folder\n",
    "load_results('/tmp/test_results')\n"
   ]
  },
  {
   "source": [
    "## Plotting results\n",
    "This section defines some functions to plot results."
   ],
   "cell_type": "markdown",
   "metadata": {}
  }
 ]
}